{
 "cells": [
  {
   "cell_type": "markdown",
   "id": "f76b3484-036f-4599-9c00-a72f3252c7d0",
   "metadata": {},
   "source": [
    "# EDA [Exploratry Data Analysis]"
   ]
  },
  {
   "cell_type": "code",
   "execution_count": 1,
   "id": "3c5bc8ad-d628-4e76-8f35-6ca215d6ea64",
   "metadata": {},
   "outputs": [
    {
     "name": "stdout",
     "output_type": "stream",
     "text": [
      "Q_1_ANS :- To provide an accurate analysis of the key features of a wine quality dataset, I would need more specific information about the dataset in question. However, I can generally discuss the importance of common features typically found in wine quality datasets. These features often include:\n",
      "\n",
      "1. Fixed Acidity: It refers to the amount of non-volatile acids in the wine. Acidity plays a crucial role in determining the taste and balance of the wine. The right balance of acidity can contribute to a refreshing and lively flavor.\n",
      "\n",
      "2. Volatile Acidity: This feature represents the presence of volatile acids, primarily acetic acid, in the wine. Higher levels of volatile acidity can result in an unpleasant, vinegar-like taste, adversely affecting the wine's quality.\n",
      "\n",
      "3. Citric Acid: Citric acid contributes to the overall acidity of the wine. It can enhance the freshness and fruitiness of the wine, providing a pleasant flavor profile.\n",
      "\n",
      "4. Residual Sugar: It refers to the amount of sugar remaining in the wine after fermentation. Residual sugar affects the wine's sweetness, and its balance with other factors such as acidity is vital for the wine's quality and perceived taste.\n",
      "\n",
      "5. Chlorides: Chlorides in wine can come from several sources, including grape varieties and winemaking processes. An appropriate level of chlorides can contribute to the wine's complexity, but excessive amounts may result in a salty or briny taste.\n",
      "\n",
      "6. Free Sulfur Dioxide: Sulfur dioxide (SO2) is used as a preservative in winemaking. It acts as an antioxidant and antimicrobial agent. The free form of SO2 is crucial in preventing wine spoilage and oxidation, thereby maintaining its quality and longevity.\n",
      "\n",
      "7. Total Sulfur Dioxide: It represents both the free and bound forms of sulfur dioxide. Total sulfur dioxide levels give an indication of the overall SO2 content in the wine. Excessive amounts can negatively impact the taste and aroma of the wine.\n",
      "\n",
      "8. Density: Density is a measure of the wine's mass per unit volume. It provides insights into the sugar content and alcohol level of the wine. It can also indicate potential alcohol fermentation problems if the density deviates significantly from the expected values.\n",
      "\n",
      "9. pH: pH represents the acidity or alkalinity of the wine. It affects the stability, taste, and microbial activity in the wine. The appropriate pH level is essential for maintaining the wine's balance and preventing spoilage.\n",
      "\n",
      "10. Alcohol: The alcohol content significantly influences the wine's body, mouthfeel, and overall perception. It contributes to the wine's flavor and can affect its aging potential.\n",
      "\n",
      "These features, among others, are typically used in wine quality datasets to train predictive models. By analyzing the relationships between these features and the perceived quality of the wine, machine learning algorithms can learn to predict wine quality based on their values. However, the importance of each feature may vary depending on the specific dataset and the preferences of the wine consumers or experts involved in the quality assessment. \n"
     ]
    }
   ],
   "source": [
    "print(\"Q_1_ANS :- To provide an accurate analysis of the key features of a wine quality dataset, I would need more specific information about the dataset in question. However, I can generally discuss the importance of common features typically found in wine quality datasets. These features often include:\\n\\n1. Fixed Acidity: It refers to the amount of non-volatile acids in the wine. Acidity plays a crucial role in determining the taste and balance of the wine. The right balance of acidity can contribute to a refreshing and lively flavor.\\n\\n2. Volatile Acidity: This feature represents the presence of volatile acids, primarily acetic acid, in the wine. Higher levels of volatile acidity can result in an unpleasant, vinegar-like taste, adversely affecting the wine's quality.\\n\\n3. Citric Acid: Citric acid contributes to the overall acidity of the wine. It can enhance the freshness and fruitiness of the wine, providing a pleasant flavor profile.\\n\\n4. Residual Sugar: It refers to the amount of sugar remaining in the wine after fermentation. Residual sugar affects the wine's sweetness, and its balance with other factors such as acidity is vital for the wine's quality and perceived taste.\\n\\n5. Chlorides: Chlorides in wine can come from several sources, including grape varieties and winemaking processes. An appropriate level of chlorides can contribute to the wine's complexity, but excessive amounts may result in a salty or briny taste.\\n\\n6. Free Sulfur Dioxide: Sulfur dioxide (SO2) is used as a preservative in winemaking. It acts as an antioxidant and antimicrobial agent. The free form of SO2 is crucial in preventing wine spoilage and oxidation, thereby maintaining its quality and longevity.\\n\\n7. Total Sulfur Dioxide: It represents both the free and bound forms of sulfur dioxide. Total sulfur dioxide levels give an indication of the overall SO2 content in the wine. Excessive amounts can negatively impact the taste and aroma of the wine.\\n\\n8. Density: Density is a measure of the wine's mass per unit volume. It provides insights into the sugar content and alcohol level of the wine. It can also indicate potential alcohol fermentation problems if the density deviates significantly from the expected values.\\n\\n9. pH: pH represents the acidity or alkalinity of the wine. It affects the stability, taste, and microbial activity in the wine. The appropriate pH level is essential for maintaining the wine's balance and preventing spoilage.\\n\\n10. Alcohol: The alcohol content significantly influences the wine's body, mouthfeel, and overall perception. It contributes to the wine's flavor and can affect its aging potential.\\n\\nThese features, among others, are typically used in wine quality datasets to train predictive models. By analyzing the relationships between these features and the perceived quality of the wine, machine learning algorithms can learn to predict wine quality based on their values. However, the importance of each feature may vary depending on the specific dataset and the preferences of the wine consumers or experts involved in the quality assessment. \")"
   ]
  },
  {
   "cell_type": "code",
   "execution_count": 2,
   "id": "8187ed97-9635-4adc-9809-7cd8805d9835",
   "metadata": {},
   "outputs": [
    {
     "name": "stdout",
     "output_type": "stream",
     "text": [
      "Q_2_ANS :- As an AI language model, I don't have access to the specific methods or approaches used in the feature engineering process for the wine quality dataset, as it depends on the specific implementation. However, I can provide a general overview of common techniques for handling missing data and discuss their advantages and disadvantages.\n",
      "\n",
      "1. Removal/Dropping: One straightforward approach is to remove the rows or features with missing data. This method ensures complete data for analysis but can result in a loss of valuable information if the missingness is not random. It is generally suitable when the missing data is minimal or does not significantly affect the overall dataset.\n",
      "\n",
      "   Advantages: Simple and quick to implement.\n",
      "   Disadvantages: Can lead to loss of information and potentially biased results if the missingness is not random.\n",
      "\n",
      "2. Mean/Mode/Median Imputation: In this technique, missing values are replaced with the mean, mode, or median of the available data for the respective feature. It is commonly used for numerical or categorical variables with few missing values.\n",
      "\n",
      "   Advantages: Easy to implement, preserves the overall distribution and variance of the data.\n",
      "   Disadvantages: Can underestimate the uncertainty, may distort relationships between variables if missingness is not random, does not account for the relationships between variables.\n",
      "\n",
      "3. Regression Imputation: Regression imputation involves using regression models to predict missing values based on other variables. For each missing value, a regression model is trained using the complete cases, and the predicted value is imputed.\n",
      "\n",
      "   Advantages: Can capture the relationships between variables, provides more accurate imputations compared to mean/mode imputation.\n",
      "   Disadvantages: Assumptions of linearity and independence may be violated, potential bias if the regression model is misspecified.\n",
      "4. Multiple Imputation: Multiple imputation creates multiple plausible imputations for missing values based on the observed data. It accounts for the uncertainty associated with missing data and produces multiple completed datasets.\n",
      "\n",
      "   Advantages: Accounts for the uncertainty of imputed values, provides more accurate estimates, captures the variability caused by missingness.\n",
      "   Disadvantages: Can be computationally expensive and complex to implement, requires careful consideration of the imputation model and assumptions.\n",
      "5. Advanced Techniques: Several advanced imputation techniques, such as k-nearest neighbors imputation, expectation-maximization algorithm, or using machine learning algorithms, can be employed depending on the specific dataset and requirements.\n",
      "\n",
      "   Advantages: Can handle complex patterns of missingness, capture non-linear relationships, potentially yield better imputations.\n",
      "   Disadvantages: May be computationally expensive, require more data preprocessing, and careful selection of the appropriate algorithm.\n",
      "The choice of imputation technique depends on factors such as the amount and nature of missing data, the relationship between variables, and the desired accuracy of the imputations. It is crucial to assess the potential impact of imputation on the analysis and consider the limitations and assumptions of each method. \n"
     ]
    }
   ],
   "source": [
    "print(\"Q_2_ANS :- As an AI language model, I don't have access to the specific methods or approaches used in the feature engineering process for the wine quality dataset, as it depends on the specific implementation. However, I can provide a general overview of common techniques for handling missing data and discuss their advantages and disadvantages.\\n\\n1. Removal/Dropping: One straightforward approach is to remove the rows or features with missing data. This method ensures complete data for analysis but can result in a loss of valuable information if the missingness is not random. It is generally suitable when the missing data is minimal or does not significantly affect the overall dataset.\\n\\n   Advantages: Simple and quick to implement.\\n   Disadvantages: Can lead to loss of information and potentially biased results if the missingness is not random.\\n\\n2. Mean/Mode/Median Imputation: In this technique, missing values are replaced with the mean, mode, or median of the available data for the respective feature. It is commonly used for numerical or categorical variables with few missing values.\\n\\n   Advantages: Easy to implement, preserves the overall distribution and variance of the data.\\n   Disadvantages: Can underestimate the uncertainty, may distort relationships between variables if missingness is not random, does not account for the relationships between variables.\\n\\n3. Regression Imputation: Regression imputation involves using regression models to predict missing values based on other variables. For each missing value, a regression model is trained using the complete cases, and the predicted value is imputed.\\n\\n   Advantages: Can capture the relationships between variables, provides more accurate imputations compared to mean/mode imputation.\\n   Disadvantages: Assumptions of linearity and independence may be violated, potential bias if the regression model is misspecified.\\n4. Multiple Imputation: Multiple imputation creates multiple plausible imputations for missing values based on the observed data. It accounts for the uncertainty associated with missing data and produces multiple completed datasets.\\n\\n   Advantages: Accounts for the uncertainty of imputed values, provides more accurate estimates, captures the variability caused by missingness.\\n   Disadvantages: Can be computationally expensive and complex to implement, requires careful consideration of the imputation model and assumptions.\\n5. Advanced Techniques: Several advanced imputation techniques, such as k-nearest neighbors imputation, expectation-maximization algorithm, or using machine learning algorithms, can be employed depending on the specific dataset and requirements.\\n\\n   Advantages: Can handle complex patterns of missingness, capture non-linear relationships, potentially yield better imputations.\\n   Disadvantages: May be computationally expensive, require more data preprocessing, and careful selection of the appropriate algorithm.\\nThe choice of imputation technique depends on factors such as the amount and nature of missing data, the relationship between variables, and the desired accuracy of the imputations. It is crucial to assess the potential impact of imputation on the analysis and consider the limitations and assumptions of each method. \")"
   ]
  },
  {
   "cell_type": "code",
   "execution_count": 4,
   "id": "109c79ef-cc03-47cf-99bc-30f4c47bf5c7",
   "metadata": {},
   "outputs": [
    {
     "name": "stdout",
     "output_type": "stream",
     "text": [
      "Q_3_ANS :- lunch and parental_level_of_education factors is affect student's performance in exams. \n"
     ]
    }
   ],
   "source": [
    "print(\"Q_3_ANS :- lunch and parental_level_of_education factors is affect student's performance in exams. \")"
   ]
  },
  {
   "cell_type": "code",
   "execution_count": 5,
   "id": "2086adbf-580d-4b99-93bd-69b0935a09c1",
   "metadata": {},
   "outputs": [],
   "source": [
    "# df.lunch.value_counts()\n",
    "# fig,axis = plt.subplots(1,3,figsize = (15,7))\n",
    "# plt.subplot(131)\n",
    "# sns.histplot(data = df ,x = 'average' ,bins = 30 ,kde = True , hue = 'lunch' )\n",
    "# plt.subplot(132)\n",
    "# sns.histplot(data = df[df.gender == 'female'] , x = 'average',bins = 30 ,kde= True, hue = 'lunch')\n",
    "# plt.subplot(133)\n",
    "# sns.histplot(data = df[df.gender == 'male'],x = 'average' , kde = True , hue = 'lunch', bins = 30)\n",
    "# fig,axis = plt.subplots(1,3,figsize = (15,7))\n",
    "# plt.subplot(131)\n",
    "# sns.histplot(data = df ,x = 'average' ,bins = 30 ,kde = True , hue = 'parental_level_of_education' )\n",
    "# plt.subplot(132)\n",
    "# sns.histplot(data = df[df.gender == 'female'] , x = 'average',bins = 30 ,kde= True, hue = 'parental_level_of_education')\n",
    "# plt.subplot(133)\n",
    "# sns.histplot(data = df[df.gender == 'male'],x = 'average' , kde = True , hue = 'parental_level_of_education', bins = 30)"
   ]
  },
  {
   "cell_type": "code",
   "execution_count": 6,
   "id": "f865fedd-eb14-49db-b4c7-f21ae3b052a8",
   "metadata": {},
   "outputs": [
    {
     "name": "stdout",
     "output_type": "stream",
     "text": [
      "Q_4_ANS :- Data Checks to perform\n",
      "\n",
      "- Check Missing values\n",
      "- Check Duplicates\n",
      "- Check data type\n",
      "- Check the number of unique values of each column\n",
      "- Check statistics of data set\n",
      "- Check various categories present in the different categorical column\n",
      "\n",
      "Data Understanding: Gain a thorough understanding of the dataset, including the available variables, their meanings, and the context in which they were collected. Identify the target variable, which in this case would be the student's performance or exam scores.\n",
      "\n",
      "Variable Selection: Select relevant variables that are likely to have an impact on student performance. These variables may include demographic information (age, gender, ethnicity), educational background (parental education, school quality), study-related factors (study time, absences), socioeconomic factors (family income, parental occupation), and other relevant features.\n",
      "\n",
      "Missing Data Handling: Identify variables with missing data and decide on appropriate strategies for handling missing values, such as imputation techniques discussed earlier. It is important to assess the potential impact of missing data on the analysis and account for it appropriately.\n",
      "\n",
      "Categorical Variable Encoding: If the dataset contains categorical variables, they need to be encoded into numerical form suitable for machine learning algorithms. This can be done through techniques such as one-hot encoding, label encoding, or ordinal encoding.\n",
      "\n",
      "Feature Transformation: Transform variables as needed to improve their representation or capture nonlinear relationships. Common transformations include logarithmic, square root, or power transformations to handle skewed distributions. Feature scaling techniques like normalization or standardization may be applied to bring variables to a comparable scale.\n",
      "\n",
      "Feature Creation: Create new features by combining or interacting existing features if they can provide additional insights or capture important relationships. For example, combining variables related to study time and absences to create a feature representing the student's attendance rate.\n",
      "\n",
      "Feature Selection: If the dataset contains a large number of features, it is essential to select the most relevant ones to avoid overfitting and improve model efficiency. Techniques such as univariate statistical tests, correlation analysis, or feature importance from machine learning models can help identify the most informative features.\n",
      "\n",
      "Iterative Process: Feature engineering is often an iterative process. After creating initial features, it is important to analyze their impact on the model's performance and make adjustments as necessary. This may involve refining transformations, creating new features, or removing irrelevant or redundant ones.\n",
      "\n",
      "It's important to note that the specific steps and techniques employed in feature engineering may vary depending on the characteristics of the student performance dataset and the specific objectives of the analysis. The process requires a combination of domain knowledge, creativity, and an iterative approach to uncover the most relevant and informative features for the predictive model. \n"
     ]
    }
   ],
   "source": [
    "print(\"Q_4_ANS :- Data Checks to perform\\n\\n- Check Missing values\\n- Check Duplicates\\n- Check data type\\n- Check the number of unique values of each column\\n- Check statistics of data set\\n- Check various categories present in the different categorical column\\n\\nData Understanding: Gain a thorough understanding of the dataset, including the available variables, their meanings, and the context in which they were collected. Identify the target variable, which in this case would be the student's performance or exam scores.\\n\\nVariable Selection: Select relevant variables that are likely to have an impact on student performance. These variables may include demographic information (age, gender, ethnicity), educational background (parental education, school quality), study-related factors (study time, absences), socioeconomic factors (family income, parental occupation), and other relevant features.\\n\\nMissing Data Handling: Identify variables with missing data and decide on appropriate strategies for handling missing values, such as imputation techniques discussed earlier. It is important to assess the potential impact of missing data on the analysis and account for it appropriately.\\n\\nCategorical Variable Encoding: If the dataset contains categorical variables, they need to be encoded into numerical form suitable for machine learning algorithms. This can be done through techniques such as one-hot encoding, label encoding, or ordinal encoding.\\n\\nFeature Transformation: Transform variables as needed to improve their representation or capture nonlinear relationships. Common transformations include logarithmic, square root, or power transformations to handle skewed distributions. Feature scaling techniques like normalization or standardization may be applied to bring variables to a comparable scale.\\n\\nFeature Creation: Create new features by combining or interacting existing features if they can provide additional insights or capture important relationships. For example, combining variables related to study time and absences to create a feature representing the student's attendance rate.\\n\\nFeature Selection: If the dataset contains a large number of features, it is essential to select the most relevant ones to avoid overfitting and improve model efficiency. Techniques such as univariate statistical tests, correlation analysis, or feature importance from machine learning models can help identify the most informative features.\\n\\nIterative Process: Feature engineering is often an iterative process. After creating initial features, it is important to analyze their impact on the model's performance and make adjustments as necessary. This may involve refining transformations, creating new features, or removing irrelevant or redundant ones.\\n\\nIt's important to note that the specific steps and techniques employed in feature engineering may vary depending on the characteristics of the student performance dataset and the specific objectives of the analysis. The process requires a combination of domain knowledge, creativity, and an iterative approach to uncover the most relevant and informative features for the predictive model. \")"
   ]
  },
  {
   "cell_type": "code",
   "execution_count": 32,
   "id": "ecb1a22f-2536-4419-b086-32e1880d53f6",
   "metadata": {},
   "outputs": [],
   "source": [
    "# from sklearn.preprocessing import MinMaxScaler\n",
    "# minMax = MinMaxScaler()\n",
    "# df_minMax = minMax.fit_transform(df[['fixed acidity']])\n",
    "# data = pd.DataFrame(df_minMax,columns=['fixed acidity transform'])\n",
    "# df1 = pd.concat([df,data],axis = 1)"
   ]
  },
  {
   "cell_type": "code",
   "execution_count": 7,
   "id": "bb526663-5352-4b54-8ef6-8a80fae54dc3",
   "metadata": {},
   "outputs": [
    {
     "name": "stdout",
     "output_type": "stream",
     "text": [
      "Q_5_ANS :- \n"
     ]
    }
   ],
   "source": [
    "print(\"Q_5_ANS :- \")"
   ]
  },
  {
   "cell_type": "code",
   "execution_count": 8,
   "id": "182375ab-8cf3-4ca1-a81e-6bd33b3fe74f",
   "metadata": {},
   "outputs": [
    {
     "data": {
      "text/html": [
       "<div>\n",
       "<style scoped>\n",
       "    .dataframe tbody tr th:only-of-type {\n",
       "        vertical-align: middle;\n",
       "    }\n",
       "\n",
       "    .dataframe tbody tr th {\n",
       "        vertical-align: top;\n",
       "    }\n",
       "\n",
       "    .dataframe thead th {\n",
       "        text-align: right;\n",
       "    }\n",
       "</style>\n",
       "<table border=\"1\" class=\"dataframe\">\n",
       "  <thead>\n",
       "    <tr style=\"text-align: right;\">\n",
       "      <th></th>\n",
       "      <th>fixed acidity</th>\n",
       "      <th>volatile acidity</th>\n",
       "      <th>citric acid</th>\n",
       "      <th>residual sugar</th>\n",
       "      <th>chlorides</th>\n",
       "      <th>free sulfur dioxide</th>\n",
       "      <th>total sulfur dioxide</th>\n",
       "      <th>density</th>\n",
       "      <th>pH</th>\n",
       "      <th>sulphates</th>\n",
       "      <th>alcohol</th>\n",
       "      <th>quality</th>\n",
       "    </tr>\n",
       "  </thead>\n",
       "  <tbody>\n",
       "    <tr>\n",
       "      <th>0</th>\n",
       "      <td>7.4</td>\n",
       "      <td>0.70</td>\n",
       "      <td>0.00</td>\n",
       "      <td>1.9</td>\n",
       "      <td>0.076</td>\n",
       "      <td>11.0</td>\n",
       "      <td>34.0</td>\n",
       "      <td>0.9978</td>\n",
       "      <td>3.51</td>\n",
       "      <td>0.56</td>\n",
       "      <td>9.4</td>\n",
       "      <td>5</td>\n",
       "    </tr>\n",
       "    <tr>\n",
       "      <th>1</th>\n",
       "      <td>7.8</td>\n",
       "      <td>0.88</td>\n",
       "      <td>0.00</td>\n",
       "      <td>2.6</td>\n",
       "      <td>0.098</td>\n",
       "      <td>25.0</td>\n",
       "      <td>67.0</td>\n",
       "      <td>0.9968</td>\n",
       "      <td>3.20</td>\n",
       "      <td>0.68</td>\n",
       "      <td>9.8</td>\n",
       "      <td>5</td>\n",
       "    </tr>\n",
       "    <tr>\n",
       "      <th>2</th>\n",
       "      <td>7.8</td>\n",
       "      <td>0.76</td>\n",
       "      <td>0.04</td>\n",
       "      <td>2.3</td>\n",
       "      <td>0.092</td>\n",
       "      <td>15.0</td>\n",
       "      <td>54.0</td>\n",
       "      <td>0.9970</td>\n",
       "      <td>3.26</td>\n",
       "      <td>0.65</td>\n",
       "      <td>9.8</td>\n",
       "      <td>5</td>\n",
       "    </tr>\n",
       "    <tr>\n",
       "      <th>3</th>\n",
       "      <td>11.2</td>\n",
       "      <td>0.28</td>\n",
       "      <td>0.56</td>\n",
       "      <td>1.9</td>\n",
       "      <td>0.075</td>\n",
       "      <td>17.0</td>\n",
       "      <td>60.0</td>\n",
       "      <td>0.9980</td>\n",
       "      <td>3.16</td>\n",
       "      <td>0.58</td>\n",
       "      <td>9.8</td>\n",
       "      <td>6</td>\n",
       "    </tr>\n",
       "    <tr>\n",
       "      <th>4</th>\n",
       "      <td>7.4</td>\n",
       "      <td>0.70</td>\n",
       "      <td>0.00</td>\n",
       "      <td>1.9</td>\n",
       "      <td>0.076</td>\n",
       "      <td>11.0</td>\n",
       "      <td>34.0</td>\n",
       "      <td>0.9978</td>\n",
       "      <td>3.51</td>\n",
       "      <td>0.56</td>\n",
       "      <td>9.4</td>\n",
       "      <td>5</td>\n",
       "    </tr>\n",
       "  </tbody>\n",
       "</table>\n",
       "</div>"
      ],
      "text/plain": [
       "   fixed acidity  volatile acidity  citric acid  residual sugar  chlorides  \\\n",
       "0            7.4              0.70         0.00             1.9      0.076   \n",
       "1            7.8              0.88         0.00             2.6      0.098   \n",
       "2            7.8              0.76         0.04             2.3      0.092   \n",
       "3           11.2              0.28         0.56             1.9      0.075   \n",
       "4            7.4              0.70         0.00             1.9      0.076   \n",
       "\n",
       "   free sulfur dioxide  total sulfur dioxide  density    pH  sulphates  \\\n",
       "0                 11.0                  34.0   0.9978  3.51       0.56   \n",
       "1                 25.0                  67.0   0.9968  3.20       0.68   \n",
       "2                 15.0                  54.0   0.9970  3.26       0.65   \n",
       "3                 17.0                  60.0   0.9980  3.16       0.58   \n",
       "4                 11.0                  34.0   0.9978  3.51       0.56   \n",
       "\n",
       "   alcohol  quality  \n",
       "0      9.4        5  \n",
       "1      9.8        5  \n",
       "2      9.8        5  \n",
       "3      9.8        6  \n",
       "4      9.4        5  "
      ]
     },
     "execution_count": 8,
     "metadata": {},
     "output_type": "execute_result"
    }
   ],
   "source": [
    "import pandas as pd\n",
    "df = pd.read_csv('winequality-red (1).csv')\n",
    "df.head()"
   ]
  },
  {
   "cell_type": "code",
   "execution_count": 9,
   "id": "a5fb663f-5f28-4f66-9369-9c304f8e7bc5",
   "metadata": {},
   "outputs": [
    {
     "name": "stdout",
     "output_type": "stream",
     "text": [
      "<class 'pandas.core.frame.DataFrame'>\n",
      "RangeIndex: 1599 entries, 0 to 1598\n",
      "Data columns (total 12 columns):\n",
      " #   Column                Non-Null Count  Dtype  \n",
      "---  ------                --------------  -----  \n",
      " 0   fixed acidity         1599 non-null   float64\n",
      " 1   volatile acidity      1599 non-null   float64\n",
      " 2   citric acid           1599 non-null   float64\n",
      " 3   residual sugar        1599 non-null   float64\n",
      " 4   chlorides             1599 non-null   float64\n",
      " 5   free sulfur dioxide   1599 non-null   float64\n",
      " 6   total sulfur dioxide  1599 non-null   float64\n",
      " 7   density               1599 non-null   float64\n",
      " 8   pH                    1599 non-null   float64\n",
      " 9   sulphates             1599 non-null   float64\n",
      " 10  alcohol               1599 non-null   float64\n",
      " 11  quality               1599 non-null   int64  \n",
      "dtypes: float64(11), int64(1)\n",
      "memory usage: 150.0 KB\n"
     ]
    }
   ],
   "source": [
    "df.info()"
   ]
  },
  {
   "cell_type": "code",
   "execution_count": 10,
   "id": "95b999c8-3858-4da2-9c1e-4ed571c04698",
   "metadata": {},
   "outputs": [
    {
     "data": {
      "text/html": [
       "<div>\n",
       "<style scoped>\n",
       "    .dataframe tbody tr th:only-of-type {\n",
       "        vertical-align: middle;\n",
       "    }\n",
       "\n",
       "    .dataframe tbody tr th {\n",
       "        vertical-align: top;\n",
       "    }\n",
       "\n",
       "    .dataframe thead th {\n",
       "        text-align: right;\n",
       "    }\n",
       "</style>\n",
       "<table border=\"1\" class=\"dataframe\">\n",
       "  <thead>\n",
       "    <tr style=\"text-align: right;\">\n",
       "      <th></th>\n",
       "      <th>fixed acidity</th>\n",
       "      <th>volatile acidity</th>\n",
       "      <th>citric acid</th>\n",
       "      <th>residual sugar</th>\n",
       "      <th>chlorides</th>\n",
       "      <th>free sulfur dioxide</th>\n",
       "      <th>total sulfur dioxide</th>\n",
       "      <th>density</th>\n",
       "      <th>pH</th>\n",
       "      <th>sulphates</th>\n",
       "      <th>alcohol</th>\n",
       "      <th>quality</th>\n",
       "    </tr>\n",
       "  </thead>\n",
       "  <tbody>\n",
       "    <tr>\n",
       "      <th>count</th>\n",
       "      <td>1599.000000</td>\n",
       "      <td>1599.000000</td>\n",
       "      <td>1599.000000</td>\n",
       "      <td>1599.000000</td>\n",
       "      <td>1599.000000</td>\n",
       "      <td>1599.000000</td>\n",
       "      <td>1599.000000</td>\n",
       "      <td>1599.000000</td>\n",
       "      <td>1599.000000</td>\n",
       "      <td>1599.000000</td>\n",
       "      <td>1599.000000</td>\n",
       "      <td>1599.000000</td>\n",
       "    </tr>\n",
       "    <tr>\n",
       "      <th>mean</th>\n",
       "      <td>8.319637</td>\n",
       "      <td>0.527821</td>\n",
       "      <td>0.270976</td>\n",
       "      <td>2.538806</td>\n",
       "      <td>0.087467</td>\n",
       "      <td>15.874922</td>\n",
       "      <td>46.467792</td>\n",
       "      <td>0.996747</td>\n",
       "      <td>3.311113</td>\n",
       "      <td>0.658149</td>\n",
       "      <td>10.422983</td>\n",
       "      <td>5.636023</td>\n",
       "    </tr>\n",
       "    <tr>\n",
       "      <th>std</th>\n",
       "      <td>1.741096</td>\n",
       "      <td>0.179060</td>\n",
       "      <td>0.194801</td>\n",
       "      <td>1.409928</td>\n",
       "      <td>0.047065</td>\n",
       "      <td>10.460157</td>\n",
       "      <td>32.895324</td>\n",
       "      <td>0.001887</td>\n",
       "      <td>0.154386</td>\n",
       "      <td>0.169507</td>\n",
       "      <td>1.065668</td>\n",
       "      <td>0.807569</td>\n",
       "    </tr>\n",
       "    <tr>\n",
       "      <th>min</th>\n",
       "      <td>4.600000</td>\n",
       "      <td>0.120000</td>\n",
       "      <td>0.000000</td>\n",
       "      <td>0.900000</td>\n",
       "      <td>0.012000</td>\n",
       "      <td>1.000000</td>\n",
       "      <td>6.000000</td>\n",
       "      <td>0.990070</td>\n",
       "      <td>2.740000</td>\n",
       "      <td>0.330000</td>\n",
       "      <td>8.400000</td>\n",
       "      <td>3.000000</td>\n",
       "    </tr>\n",
       "    <tr>\n",
       "      <th>25%</th>\n",
       "      <td>7.100000</td>\n",
       "      <td>0.390000</td>\n",
       "      <td>0.090000</td>\n",
       "      <td>1.900000</td>\n",
       "      <td>0.070000</td>\n",
       "      <td>7.000000</td>\n",
       "      <td>22.000000</td>\n",
       "      <td>0.995600</td>\n",
       "      <td>3.210000</td>\n",
       "      <td>0.550000</td>\n",
       "      <td>9.500000</td>\n",
       "      <td>5.000000</td>\n",
       "    </tr>\n",
       "    <tr>\n",
       "      <th>50%</th>\n",
       "      <td>7.900000</td>\n",
       "      <td>0.520000</td>\n",
       "      <td>0.260000</td>\n",
       "      <td>2.200000</td>\n",
       "      <td>0.079000</td>\n",
       "      <td>14.000000</td>\n",
       "      <td>38.000000</td>\n",
       "      <td>0.996750</td>\n",
       "      <td>3.310000</td>\n",
       "      <td>0.620000</td>\n",
       "      <td>10.200000</td>\n",
       "      <td>6.000000</td>\n",
       "    </tr>\n",
       "    <tr>\n",
       "      <th>75%</th>\n",
       "      <td>9.200000</td>\n",
       "      <td>0.640000</td>\n",
       "      <td>0.420000</td>\n",
       "      <td>2.600000</td>\n",
       "      <td>0.090000</td>\n",
       "      <td>21.000000</td>\n",
       "      <td>62.000000</td>\n",
       "      <td>0.997835</td>\n",
       "      <td>3.400000</td>\n",
       "      <td>0.730000</td>\n",
       "      <td>11.100000</td>\n",
       "      <td>6.000000</td>\n",
       "    </tr>\n",
       "    <tr>\n",
       "      <th>max</th>\n",
       "      <td>15.900000</td>\n",
       "      <td>1.580000</td>\n",
       "      <td>1.000000</td>\n",
       "      <td>15.500000</td>\n",
       "      <td>0.611000</td>\n",
       "      <td>72.000000</td>\n",
       "      <td>289.000000</td>\n",
       "      <td>1.003690</td>\n",
       "      <td>4.010000</td>\n",
       "      <td>2.000000</td>\n",
       "      <td>14.900000</td>\n",
       "      <td>8.000000</td>\n",
       "    </tr>\n",
       "  </tbody>\n",
       "</table>\n",
       "</div>"
      ],
      "text/plain": [
       "       fixed acidity  volatile acidity  citric acid  residual sugar  \\\n",
       "count    1599.000000       1599.000000  1599.000000     1599.000000   \n",
       "mean        8.319637          0.527821     0.270976        2.538806   \n",
       "std         1.741096          0.179060     0.194801        1.409928   \n",
       "min         4.600000          0.120000     0.000000        0.900000   \n",
       "25%         7.100000          0.390000     0.090000        1.900000   \n",
       "50%         7.900000          0.520000     0.260000        2.200000   \n",
       "75%         9.200000          0.640000     0.420000        2.600000   \n",
       "max        15.900000          1.580000     1.000000       15.500000   \n",
       "\n",
       "         chlorides  free sulfur dioxide  total sulfur dioxide      density  \\\n",
       "count  1599.000000          1599.000000           1599.000000  1599.000000   \n",
       "mean      0.087467            15.874922             46.467792     0.996747   \n",
       "std       0.047065            10.460157             32.895324     0.001887   \n",
       "min       0.012000             1.000000              6.000000     0.990070   \n",
       "25%       0.070000             7.000000             22.000000     0.995600   \n",
       "50%       0.079000            14.000000             38.000000     0.996750   \n",
       "75%       0.090000            21.000000             62.000000     0.997835   \n",
       "max       0.611000            72.000000            289.000000     1.003690   \n",
       "\n",
       "                pH    sulphates      alcohol      quality  \n",
       "count  1599.000000  1599.000000  1599.000000  1599.000000  \n",
       "mean      3.311113     0.658149    10.422983     5.636023  \n",
       "std       0.154386     0.169507     1.065668     0.807569  \n",
       "min       2.740000     0.330000     8.400000     3.000000  \n",
       "25%       3.210000     0.550000     9.500000     5.000000  \n",
       "50%       3.310000     0.620000    10.200000     6.000000  \n",
       "75%       3.400000     0.730000    11.100000     6.000000  \n",
       "max       4.010000     2.000000    14.900000     8.000000  "
      ]
     },
     "execution_count": 10,
     "metadata": {},
     "output_type": "execute_result"
    }
   ],
   "source": [
    "df.describe()"
   ]
  },
  {
   "cell_type": "code",
   "execution_count": 11,
   "id": "f1cbc6e1-3e75-406a-ad88-c928c905739a",
   "metadata": {},
   "outputs": [
    {
     "data": {
      "image/png": "[encoded data removed]",
      "text/plain": [
       "<Figure size 640x480 with 1 Axes>"
      ]
     },
     "metadata": {},
     "output_type": "display_data"
    }
   ],
   "source": [
    "import matplotlib.pyplot as plt\n",
    "\n",
    "plt.hist(df['fixed acidity'], bins=20)\n",
    "plt.xlabel('Fixed Acidity')\n",
    "plt.ylabel('Frequency')\n",
    "plt.title('Distribution of Fixed Acidity')\n",
    "plt.show()\n"
   ]
  },
  {
   "cell_type": "code",
   "execution_count": 17,
   "id": "26e086de-b62b-4120-a988-d3abac1fdceb",
   "metadata": {},
   "outputs": [
    {
     "name": "stdout",
     "output_type": "stream",
     "text": [
      "Q_6_ANS :- \n"
     ]
    }
   ],
   "source": [
    "print(\"Q_6_ANS :- \")"
   ]
  },
  {
   "cell_type": "code",
   "execution_count": 18,
   "id": "640be310-5498-466b-9ce5-42178c00f043",
   "metadata": {},
   "outputs": [
    {
     "name": "stdout",
     "output_type": "stream",
     "text": [
      "Minimum number of principal components for 90% variance: 1\n"
     ]
    }
   ],
   "source": [
    "from sklearn.decomposition import PCA\n",
    "import numpy as np\n",
    "\n",
    "\n",
    "pca = PCA()\n",
    "pca.fit_transform(df[['quality']])\n",
    "\n",
    "# Get explained variance ratio and cumulative sum\n",
    "explained_variance_ratio = pca.explained_variance_ratio_\n",
    "cumulative_variance_ratio = np.cumsum(explained_variance_ratio)\n",
    "\n",
    "# Find the minimum number of principal components required for 90% variance\n",
    "n_components = np.argmax(cumulative_variance_ratio >= 0.9) + 1\n",
    "\n",
    "print(\"Minimum number of principal components for 90% variance:\", n_components)\n"
   ]
  },
  {
   "cell_type": "code",
   "execution_count": null,
   "id": "8055d412-04c5-489c-a641-87eac7d1778f",
   "metadata": {},
   "outputs": [],
   "source": []
  }
 ],
 "metadata": {
  "kernelspec": {
   "display_name": "Python 3 (ipykernel)",
   "language": "python",
   "name": "python3"
  },
  "language_info": {
   "codemirror_mode": {
    "name": "ipython",
    "version": 3
   },
   "file_extension": ".py",
   "mimetype": "text/x-python",
   "name": "python",
   "nbconvert_exporter": "python",
   "pygments_lexer": "ipython3",
   "version": "3.10.6"
  }
 },
 "nbformat": 4,
 "nbformat_minor": 5
}
